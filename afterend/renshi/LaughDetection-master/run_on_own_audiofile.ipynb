{
 "cells": [
  {
   "cell_type": "code",
   "execution_count": 4,
   "metadata": {},
   "outputs": [],
   "source": [
    "import keras\n",
    "import numpy as np\n",
    "import tensorflow as tf\n",
    "import glob\n",
    "\n",
    "from audioset import vggish_embeddings\n",
    "\n",
    "\n",
    "audio_embedder = vggish_embeddings.VGGishEmbedder(None)\n",
    "\n",
    "processed_embedding =  audio_embedder.convert_audio_to_embedding('freinds_laugh.wav')\n",
    "\n",
    "embedding_final = np.expand_dims(processed_embedding, axis=0)\n",
    "\n",
    "model = keras.models.load_model('Models/LSTM_ThreeLayer_100Epochs.h5')\n",
    "\n",
    "prediction = model.predict(embedding_final)\n",
    "\n",
    "prediction"
   ]
  },
  {
   "cell_type": "code",
   "execution_count": null,
   "metadata": {},
   "outputs": [],
   "source": []
  }
 ],
 "metadata": {
  "kernelspec": {
   "display_name": "deeplearningproject",
   "language": "python",
   "name": "deeplearningproject"
  },
  "language_info": {
   "codemirror_mode": {
    "name": "ipython",
    "version": 2
   },
   "file_extension": ".py",
   "mimetype": "text/x-python",
   "name": "python",
   "nbconvert_exporter": "python",
   "pygments_lexer": "ipython2",
   "version": "2.7.13"
  }
 },
 "nbformat": 4,
 "nbformat_minor": 2
}
